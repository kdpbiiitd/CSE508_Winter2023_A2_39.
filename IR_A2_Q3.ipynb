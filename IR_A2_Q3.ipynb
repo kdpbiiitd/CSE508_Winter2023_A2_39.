{
  "nbformat": 4,
  "nbformat_minor": 0,
  "metadata": {
    "colab": {
      "provenance": []
    },
    "kernelspec": {
      "name": "python3",
      "display_name": "Python 3"
    },
    "language_info": {
      "name": "python"
    }
  },
  "cells": [
    {
      "cell_type": "markdown",
      "source": [
        "# Objective 1"
      ],
      "metadata": {
        "id": "5mvctoW1Jdcp"
      }
    },
    {
      "cell_type": "code",
      "execution_count": null,
      "metadata": {
        "id": "pqGWgiYQC9kQ"
      },
      "outputs": [],
      "source": [
        "import numpy as np\n",
        "\n",
        "# Load the dataset\n",
        "with open('/content/IR-assignment-2-data (2).txt') as f:\n",
        "    data = f.readlines()\n",
        "\n",
        "# Parse the data and store it in a list\n",
        "data = [line.strip().split(' ') for line in data]\n"
      ]
    },
    {
      "cell_type": "code",
      "source": [
        "# Filter out the queries with qid:4\n",
        "data = [d for d in data if d[1]==('qid:4')]\n",
        "\n",
        "# Calculate the DCG score for each query-url pair\n",
        "def dcg(rel):\n",
        "    rel = [float(r) for r in rel] # convert to float\n",
        "    return rel[0] + sum([rel[i] / np.log2(i+1) for i in range(1, min(50, len(rel)))])\n",
        "\n",
        "dcgs = [(q[2], q[1], dcg([float(q[0])] + [float(x.split(':')[1]) for x in q[3:] if ':' in x])) for q in data]\n"
      ],
      "metadata": {
        "id": "3S42nMo8DRgK"
      },
      "execution_count": null,
      "outputs": []
    },
    {
      "cell_type": "code",
      "source": [
        "print(dcgs)"
      ],
      "metadata": {
        "colab": {
          "base_uri": "https://localhost:8080/"
        },
        "id": "2tK3ThlX1Jpg",
        "outputId": "d6841b36-e1a5-489c-9a97-6b5d9981f670"
      },
      "execution_count": null,
      "outputs": [
        {
          "output_type": "stream",
          "name": "stdout",
          "text": [
            "[('1:3', 'qid:4', 667.6889662786776), ('1:3', 'qid:4', 1038.8407832322607), ('1:3', 'qid:4', 679.7626526472976), ('1:3', 'qid:4', 1071.903344254697), ('1:3', 'qid:4', 474.12766399394314), ('1:3', 'qid:4', 957.8804798268385), ('1:3', 'qid:4', 326.74317132597713), ('1:3', 'qid:4', 473.8729479280592), ('1:3', 'qid:4', 717.6751359323216), ('1:3', 'qid:4', 473.12766399394314), ('1:3', 'qid:4', 298.79215051066757), ('1:2', 'qid:4', 229.154971193841), ('1:3', 'qid:4', 344.72110211331034), ('1:2', 'qid:4', 747.2240764033078), ('1:2', 'qid:4', 523.6410470809221), ('1:3', 'qid:4', 296.7022117293507), ('1:3', 'qid:4', 520.6250883543369), ('1:2', 'qid:4', 281.6857137567618), ('1:3', 'qid:4', 125.87848950763058), ('1:3', 'qid:4', 350.91570192348183), ('1:3', 'qid:4', 298.24718103141726), ('1:3', 'qid:4', 258.70356306256275), ('1:3', 'qid:4', 513.4941904612517), ('1:3', 'qid:4', 168.0697219829787), ('1:2', 'qid:4', 170.8897963378823), ('1:3', 'qid:4', 137.8487087560142), ('1:3', 'qid:4', 493.3568719274509), ('1:3', 'qid:4', 473.6336977904056), ('1:3', 'qid:4', 413.01233098795126), ('1:3', 'qid:4', 901.6613674958148), ('1:2', 'qid:4', 223.43023522142434), ('1:3', 'qid:4', 455.010575044966), ('1:3', 'qid:4', 512.3135908968317), ('1:3', 'qid:4', 295.1720369744778), ('1:3', 'qid:4', 158.21119263799034), ('1:2', 'qid:4', 225.61683048479622), ('1:3', 'qid:4', 810.8087406020202), ('1:2', 'qid:4', 227.36995263530372), ('1:3', 'qid:4', 384.49877348931864), ('1:3', 'qid:4', 926.4566974220006), ('1:3', 'qid:4', 351.6902222108645), ('1:3', 'qid:4', 434.43913740906896), ('1:3', 'qid:4', 532.5843128223014), ('1:2', 'qid:4', 292.34959887511496), ('1:2', 'qid:4', 292.34959887511496), ('1:3', 'qid:4', 227.87600936891064), ('1:3', 'qid:4', 476.52109011398977), ('1:3', 'qid:4', 172.7412360990833), ('1:3', 'qid:4', 693.1700462382778), ('1:1', 'qid:4', 137.72315030100043), ('1:3', 'qid:4', 535.4180756300839), ('1:3', 'qid:4', 219.4223435845774), ('1:2', 'qid:4', 746.0968653667928), ('1:2', 'qid:4', 373.1495314779604), ('1:3', 'qid:4', 426.2629343061367), ('1:3', 'qid:4', 265.17113613780487), ('1:3', 'qid:4', 1038.6311453498322), ('1:3', 'qid:4', 197.89819459787478), ('1:2', 'qid:4', 232.7607354333127), ('1:3', 'qid:4', 237.3529211944432), ('1:3', 'qid:4', 496.32696975249513), ('1:2', 'qid:4', 280.507742786772), ('1:3', 'qid:4', 574.0699581781814), ('1:3', 'qid:4', 634.3207427199667), ('1:3', 'qid:4', 189.27377517254928), ('1:3', 'qid:4', 287.419131428013), ('1:3', 'qid:4', 201.04325675218624), ('1:3', 'qid:4', 1812.322424709528), ('1:3', 'qid:4', 166.78120036330748), ('1:3', 'qid:4', 240.2178038509418), ('1:2', 'qid:4', 132.21607097307998), ('1:3', 'qid:4', 242.31725723614989), ('1:3', 'qid:4', 313.46916569352555), ('1:3', 'qid:4', 1596.3435195983009), ('1:3', 'qid:4', 250.4149332764347), ('1:3', 'qid:4', 302.07572454478105), ('1:2', 'qid:4', 220.82174138041023), ('1:3', 'qid:4', 202.96716215804562), ('1:3', 'qid:4', 260.2427482096319), ('1:2', 'qid:4', 361.00948317060454), ('1:3', 'qid:4', 383.49877348931864), ('1:1', 'qid:4', 193.60774180484435), ('1:3', 'qid:4', 342.0949500360537), ('1:3', 'qid:4', 297.1572426083267), ('1:3', 'qid:4', 357.90968982302314), ('1:3', 'qid:4', 264.36034434657284), ('1:3', 'qid:4', 773.1326918157478), ('1:3', 'qid:4', 298.3371203481444), ('1:3', 'qid:4', 182.84416919489752), ('1:2', 'qid:4', 190.8251832828758), ('1:3', 'qid:4', 507.1510819752375), ('1:2', 'qid:4', 538.2617030016349), ('1:3', 'qid:4', 251.9869807964513), ('1:3', 'qid:4', 319.0501122759614), ('1:2', 'qid:4', 529.5907111553819), ('1:2', 'qid:4', 482.31317639876545), ('1:2', 'qid:4', 133.21607097307998), ('1:1', 'qid:4', 219.96725760822605), ('1:3', 'qid:4', 190.04513856800875), ('1:3', 'qid:4', 348.6580898373535), ('1:2', 'qid:4', 614.5712950730156), ('1:2', 'qid:4', 1434.5385164475636), ('1:3', 'qid:4', 302.6464076875154)]\n"
          ]
        }
      ]
    },
    {
      "cell_type": "code",
      "source": [
        "# Save the query-url pairs in order of maximum DCG to a file\n",
        "with open('mslr-web10k-qid4-maxdcg.txt', 'w') as f:\n",
        "    for q in dcgs:\n",
        "        f.write(q[0] + ' ' + q[1] + '\\n')"
      ],
      "metadata": {
        "id": "vCITKnBJIPoP"
      },
      "execution_count": null,
      "outputs": []
    },
    {
      "cell_type": "code",
      "source": [
        "# Sort the query-url pairs in descending order based on DCG scores\n",
        "dcgs = sorted(dcgs, reverse=True, key=lambda x: x[2])\n",
        "\n",
        "num_pairs = len(dcgs)\n",
        "print(f'Number of query-url pairs that could be made: {num_pairs}')\n",
        "print(\"\")\n",
        "# Print the top 10 query-url pairs based on DCG scores\n",
        "for i in range(10):\n",
        "    print(dcgs[i][1], dcgs[i][2])"
      ],
      "metadata": {
        "colab": {
          "base_uri": "https://localhost:8080/"
        },
        "id": "U6DLmTkJG9Gr",
        "outputId": "eb5c18b9-597c-4743-837f-48423dd144a9"
      },
      "execution_count": null,
      "outputs": [
        {
          "output_type": "stream",
          "name": "stdout",
          "text": [
            "Number of query-url pairs that could be made: 103\n",
            "\n",
            "qid:4 1812.322424709528\n",
            "qid:4 1596.3435195983009\n",
            "qid:4 1434.5385164475636\n",
            "qid:4 1071.903344254697\n",
            "qid:4 1038.8407832322607\n",
            "qid:4 1038.6311453498322\n",
            "qid:4 957.8804798268385\n",
            "qid:4 926.4566974220006\n",
            "qid:4 901.6613674958148\n",
            "qid:4 810.8087406020202\n"
          ]
        }
      ]
    },
    {
      "cell_type": "markdown",
      "source": [
        "# Objective 2"
      ],
      "metadata": {
        "id": "hgKBtP90Jidg"
      }
    },
    {
      "cell_type": "code",
      "source": [
        "import numpy as np\n",
        "\n",
        "\n",
        "# Load the data\n",
        "with open('/content/IR-assignment-2-data (2).txt') as f:\n",
        "    lines = f.readlines()\n",
        "\n",
        "\n"
      ],
      "metadata": {
        "id": "1Hbu3FIfAxm6"
      },
      "execution_count": null,
      "outputs": []
    },
    {
      "cell_type": "code",
      "source": [
        "def dcg(relevance, k):\n",
        
        "    r = relevance[:k]\n",
        "    return np.sum(np.divide(np.power(2, r) - 1, np.log2(np.arange(2, len(r) + 2))))\n",
        "\n",
        "def idcg(relevance, k):\n",
        
        "    r_sorted = sorted(relevance, reverse=True)\n",
        "    return dcg(r_sorted, k)\n",
        "\n",
        "def ndcg(relevance, k):\n",
        
        "    return dcg(relevance, k) / idcg(relevance, k)\n"
      ],
      "metadata": {
        "id": "rJ249zwIA0nO"
      },
      "execution_count": null,
      "outputs": []
    },
    {
      "cell_type": "code",
      "source": [
        "import re\n",
        "\n",
        "# Split the lines using regular expression\n",
        "data_split = [re.split(r'\\s+', line.strip()) for line in data]\n",
        "\n",
        "# Extract the relevance scores\n",
        "relevance = [int(line[0]) for line in data_split if line[0].isdigit()]\n"
      ],
      "metadata": {
        "id": "4z-O49OzfOqD"
      },
      "execution_count": null,
      "outputs": []
    },
    {
      "cell_type": "code",
      "source": [
        "# Compute nDCG@50\n",
        "ndcg_50 = ndcg(relevance[:50], 50)\n",
        "print(f\"nDCG@50: {ndcg_50:.3f}\")\n",
        "\n",
        "# Compute nDCG for the entire dataset\n",
        "ndcg_all = ndcg(relevance, len(relevance))\n",
        "print(f\"nDCG for the entire dataset: {ndcg_all:.3f}\")\n"
      ],
      "metadata": {
        "colab": {
          "base_uri": "https://localhost:8080/"
        },
        "id": "Y1gOGC9eei3H",
        "outputId": "823d172f-244e-4f97-f72f-390ed24847da"
      },
      "execution_count": null,
      "outputs": [
        {
          "output_type": "stream",
          "name": "stdout",
          "text": [
            "nDCG@50: 0.485\n",
            "nDCG for the entire dataset: 0.766\n"
          ]
        }
      ]
    },
    {
      "cell_type": "markdown",
      "source": [
        "# Objective 3"
      ],
      "metadata": {
        "id": "glE8UxELyinP"
      }
    },
    {
      "cell_type": "code",
      "source": [
        "import numpy as np\n",
        "from sklearn.metrics import precision_recall_curve\n",
        "import matplotlib.pyplot as plt\n",
        "\n",
        "# Load data from the txt file\n",
        "with open('/content/IR-assignment-2-data (2).txt') as f:\n",
        "    data = [line.strip().split() for line in f]\n",
        "\n"
      ],
      "metadata": {
        "id": "4rjU7GYsygzJ"
      },
      "execution_count": 1,
      "outputs": []
    },
    {
      "cell_type": "code",
      "source": [
        "\n",
        "# Filter data to only include query qid:4 and relevant documents\n",
        "relevant_data = [line for line in data if line[1] == 'qid:4' and line[3] != '0']\n",
        "\n",
        "# Sort relevant_data by feature 75 in descending order\n",
        "relevant_data_sorted = sorted(relevant_data, key=lambda x: float(x[76].split(':')[1]), reverse=True)\n"
      ],
      "metadata": {
        "id": "30a2_S2Krrht"
      },
      "execution_count": 5,
      "outputs": []
    },
    {
      "cell_type": "code",
      "source": [
        "relevant_data_sorted"
      ],
      "metadata": {
        "id": "E35Qi9t2gfaI"
      },
      "execution_count": null,
      "outputs": []
    },
    {
      "cell_type": "code",
      "source": [
        "# Calculate precision and recall at different thresholds\n",
        "y_true = [int(line[3].split(\":\")[1]) for line in relevant_data_sorted]\n",
        "y_score = [float(line[76].split(\":\")[1]) for line in relevant_data_sorted]\n",
        "y_true_binary = [1 if int(line[3].split(\":\")[1]) > 0 else 0 for line in relevant_data_sorted]\n",
        "\n",
        "precision, recall, _ = precision_recall_curve(y_true_binary, y_score)"
      ],
      "metadata": {
        "id": "SlRODrsjt8MB"
      },
      "execution_count": 11,
      "outputs": []
    },
    {
      "cell_type": "code",
      "source": [
        "# Plot the Precision-Recall curve\n",
        "plt.plot(recall, precision)\n",
        "plt.xlabel('Recall')\n",
        "plt.ylabel('Precision')\n",
        "plt.title('Precision-Recall curve for query qid:4')\n",
        "plt.show()"
      ],
      "metadata": {
        "colab": {
          "base_uri": "https://localhost:8080/",
          "height": 295
        },
        "id": "guBKzGaSgKmN",
        "outputId": "c6a406dc-aa4d-4fd0-f5ca-7db9f2a5d3e3"
      },
      "execution_count": 12,
      "outputs": [
        {
          "output_type": "display_data",
          "data": {
            "text/plain": [
              "<Figure size 432x288 with 1 Axes>"
            ],
            "image/png": "[encoded data removed]"
          },
          "metadata": {
            "needs_background": "light"
          }
        }
      ]
    }
  ]
}
