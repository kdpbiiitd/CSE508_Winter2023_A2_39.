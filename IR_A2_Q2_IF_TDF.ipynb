{
  "nbformat": 4,
  "nbformat_minor": 0,
  "metadata": {
    "colab": {
      "provenance": [],
      "authorship_tag": "ABX9TyOFYBDUQU6F+KHI62DmAuWf",
      "include_colab_link": true
    },
    "kernelspec": {
      "name": "python3",
      "display_name": "Python 3"
    },
    "language_info": {
      "name": "python"
    }
  },
  "cells": [
    {
      "cell_type": "markdown",
      "metadata": {
        "id": "view-in-github",
        "colab_type": "text"
      },
      "source": [
        "<a href=\"https://colab.research.google.com/github/kdpbiiitd/CSE508_Winter2023_A2_39./blob/main/IR_A2_Q2_IF_TDF.ipynb\" target=\"_parent\"><img src=\"https://colab.research.google.com/assets/colab-badge.svg\" alt=\"Open In Colab\"/></a>"
      ]
    },
    {
      "cell_type": "code",
      "execution_count": 1,
      "metadata": {
        "colab": {
          "base_uri": "https://localhost:8080/"
        },
        "id": "uJMCLHM8B3yO",
        "outputId": "9e532339-60e4-4be6-d8f9-e667b04583d1"
      },
      "outputs": [
        {
          "output_type": "stream",
          "name": "stderr",
          "text": [
            "[nltk_data] Downloading package stopwords to /root/nltk_data...\n",
            "[nltk_data]   Unzipping corpora/stopwords.zip.\n",
            "[nltk_data] Downloading package punkt to /root/nltk_data...\n",
            "[nltk_data]   Unzipping tokenizers/punkt.zip.\n",
            "[nltk_data] Downloading package wordnet to /root/nltk_data...\n"
          ]
        }
      ],
      "source": [
        "import pandas as pd\n",
        "import string\n",
        "import nltk\n",
        "import math\n",
        "from collections import Counter, defaultdict\n",
        "from sklearn.model_selection import train_test_split\n",
        "from sklearn.metrics import accuracy_score, precision_score, recall_score, f1_score\n",
        "from sklearn.feature_extraction.text import TfidfVectorizer\n",
        "\n",
        "nltk.download('stopwords')\n",
        "nltk.download('punkt')\n",
        "nltk.download('wordnet')\n",
        "\n",
        "from nltk.corpus import stopwords\n",
        "from nltk.tokenize import word_tokenize\n",
        "from nltk.stem import PorterStemmer\n",
        "from nltk.stem import WordNetLemmatizer"
      ]
    },
    {
      "cell_type": "code",
      "source": [
        "# Load the data\n",
        "df = pd.read_csv('dataset.csv')\n",
        "\n",
        "# Clean the text data\n",
        "stopwords = nltk.corpus.stopwords.words('english')\n",
        "stemmer = PorterStemmer()\n",
        "lemmatizer = WordNetLemmatizer()\n",
        "\n",
        "def clean_text(text):\n",
        "    text = text.translate(str.maketrans('', '', string.punctuation))\n",
        "    text = \" \".join([word.lower() for word in text.split() if word.lower() not in stopwords])\n",
        "    return text\n",
        "\n",
        "df['Text'] = df['Text'].apply(clean_text)"
      ],
      "metadata": {
        "id": "KZUcdzj9FYrM"
      },
      "execution_count": 10,
      "outputs": []
    },
    {
      "cell_type": "code",
      "source": [
        "# Split the dataset into training and testing sets\n",
        "train_df, test_df = train_test_split(df, test_size=0.3, random_state=42)\n",
        "\n",
        "# Calculate the prior probabilities of each category in the training set\n",
        "prior_probs = defaultdict(float)\n",
        "total_count = len(train_df)\n",
        "for category, count in train_df['Category'].value_counts().items():\n",
        "    prior_probs[category] = count / total_count"
      ],
      "metadata": {
        "id": "lG3pCfiIFgbX"
      },
      "execution_count": 11,
      "outputs": []
    },
    {
      "cell_type": "code",
      "source": [
        "# Calculate the TF-IDF values for each word in each category\n",
        "tfidf = TfidfVectorizer()\n",
        "tfidf.fit(train_df['Text'])\n",
        "tfidf_values = tfidf.transform(train_df['Text'])\n",
        "\n",
        "tfidf_dict = defaultdict(dict)\n",
        "for i, category in enumerate(train_df['Category']):\n",
        "    for j, word in enumerate(tfidf.get_feature_names_out()):\n",
        "        tfidf_dict[category][word] = tfidf_values[i, j]\n",
        "\n",
        "#create a dictionary to store the likelihood probabilities\n",
        "likelihood_probs = defaultdict(dict)\n",
        "for label, counter in tfidf_dict.items():\n",
        "    total_count = sum(counter.values())\n",
        "    for word, count in counter.items():\n",
        "        likelihood_probs[label][word] = count / total_count"
      ],
      "metadata": {
        "id": "NkUp25kbFjS9"
      },
      "execution_count": 13,
      "outputs": []
    },
    {
      "cell_type": "code",
      "source": [
        "# Calculate the posterior probabilities for each category for each document in the test set\n",
        "posterior_probs = defaultdict(dict)\n",
        "for i, row in test_df.iterrows():\n",
        "    for category, prior_prob in prior_probs.items():\n",
        "        posterior_prob = prior_prob\n",
        "        for word in row['Text'].split():\n",
        "            if word in likelihood_probs[category]:\n",
        "                posterior_prob *= likelihood_probs[category][word]\n",
        "        posterior_probs[row['Category']][category] = posterior_prob"
      ],
      "metadata": {
        "id": "FWlfcDWONpYe"
      },
      "execution_count": 14,
      "outputs": []
    },
    {
      "cell_type": "code",
      "source": [
        "#Use the naive bayes classifier to predict the category of each document in the test set\n",
        "predictions = []\n",
        "for i, row in test_df.iterrows():\n",
        "    max_prob = -1\n",
        "    max_category = None\n",
        "    for category, posterior_prob in posterior_probs[row['Category']].items():\n",
        "        if posterior_prob > max_prob:\n",
        "            max_prob = posterior_prob\n",
        "            max_category = category\n",
        "    predictions.append(max_category)\n"
      ],
      "metadata": {
        "id": "dfkorRY-NsD9"
      },
      "execution_count": 15,
      "outputs": []
    },
    {
      "cell_type": "code",
      "source": [
        "# Calculate the accuracy, precision, recall, and F1 score of the classifier\n",
        "print('Accuracy: ', accuracy_score(test_df['Category'], predictions))\n",
        "print('Precision: ', precision_score(test_df['Category'], predictions, average='weighted'))\n",
        "print('Recall: ', recall_score(test_df['Category'], predictions, average='weighted'))\n",
        "print('F1 Score: ', f1_score(test_df['Category'], predictions, average='weighted'))"
      ],
      "metadata": {
        "colab": {
          "base_uri": "https://localhost:8080/"
        },
        "id": "nDMCpOsBNuqq",
        "outputId": "7ae11039-8518-4076-a4ff-fde5521040e6"
      },
      "execution_count": 16,
      "outputs": [
        {
          "output_type": "stream",
          "name": "stdout",
          "text": [
            "Accuracy:  0.22595078299776286\n",
            "Precision:  0.05105375633730212\n",
            "Recall:  0.22595078299776286\n",
            "F1 Score:  0.08328842730939433\n"
          ]
        },
        {
          "output_type": "stream",
          "name": "stderr",
          "text": [
            "/usr/local/lib/python3.9/dist-packages/sklearn/metrics/_classification.py:1344: UndefinedMetricWarning: Precision is ill-defined and being set to 0.0 in labels with no predicted samples. Use `zero_division` parameter to control this behavior.\n",
            "  _warn_prf(average, modifier, msg_start, len(result))\n"
          ]
        }
      ]
    },
    {
      "cell_type": "code",
      "source": [
        "# Prompt the user to enter a document number\n",
        "doc_num = int(input(\"Enter the document number: \"))\n",
        "\n",
        "# Get the predicted category and true category for the document\n",
        "predicted_category = print(predictions[doc_num])\n",
        "true_category = print(test_df.iloc[doc_num]['Category'])"
      ],
      "metadata": {
        "colab": {
          "base_uri": "https://localhost:8080/"
        },
        "id": "UK-3sIXnNwhC",
        "outputId": "2b6d5568-9ffb-491b-995b-79cb8fc480c2"
      },
      "execution_count": 21,
      "outputs": [
        {
          "output_type": "stream",
          "name": "stdout",
          "text": [
            "Enter the document number: 45\n",
            "sport\n",
            "business\n"
          ]
        }
      ]
    }
  ]
}